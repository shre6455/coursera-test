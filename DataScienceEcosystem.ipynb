{
  "metadata": {
    "kernelspec": {
      "name": "python",
      "display_name": "Python (Pyodide)",
      "language": "python"
    },
    "language_info": {
      "codemirror_mode": {
        "name": "python",
        "version": 3
      },
      "file_extension": ".py",
      "mimetype": "text/x-python",
      "name": "python",
      "nbconvert_exporter": "python",
      "pygments_lexer": "ipython3",
      "version": "3.8"
    }
  },
  "nbformat_minor": 4,
  "nbformat": 4,
  "cells": [
    {
      "cell_type": "markdown",
      "source": "Data Science Tool and Ecosystem\n",
      "metadata": {}
    },
    {
      "cell_type": "markdown",
      "source": "In this notebook, Data science tools and Ecosystem are summarized.",
      "metadata": {}
    },
    {
      "cell_type": "markdown",
      "source": "Some of the popular language that data scientists use are \n\na)Python\nb) R\nc)SQL\nd) C/C++\ne) SAS\nf)Java \ng)Ruby\nh)MATLAB\ni) Scala\nj) Julia\n\n\n",
      "metadata": {}
    },
    {
      "cell_type": "markdown",
      "source": "Some of the commonly used libraries used by data scientists inlcudes:\na)Tensorflow b) Pandas c) Numpy d) SciPy e) Plotly g) Scikit h) Mathplotlib i) Seaborn\n",
      "metadata": {}
    },
    {
      "cell_type": "markdown",
      "source": "Data science tools\n",
      "metadata": {}
    },
    {
      "cell_type": "markdown",
      "source": "a) Power Bi",
      "metadata": {}
    },
    {
      "cell_type": "markdown",
      "source": "b) Python",
      "metadata": {}
    },
    {
      "cell_type": "markdown",
      "source": "c) R\n",
      "metadata": {}
    },
    {
      "cell_type": "markdown",
      "source": "d) SQL",
      "metadata": {}
    },
    {
      "cell_type": "code",
      "source": "",
      "metadata": {
        "trusted": true
      },
      "outputs": [],
      "execution_count": null
    }
  ]
}